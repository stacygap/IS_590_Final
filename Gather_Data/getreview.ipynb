{
 "cells": [
  {
   "cell_type": "code",
   "execution_count": 1,
   "metadata": {},
   "outputs": [],
   "source": [
    "import requests\n",
    "import pandas as pd\n",
    "import json\n",
    "import progressbar\n",
    "import time\n",
    "import random\n",
    "bar = progressbar.ProgressBar()"
   ]
  },
  {
   "cell_type": "code",
   "execution_count": 2,
   "metadata": {},
   "outputs": [],
   "source": [
    "detail = pd.read_csv(\"Game_detail.csv\",encoding='ISO-8859-1',low_memory=False)"
   ]
  },
  {
   "cell_type": "code",
   "execution_count": 3,
   "metadata": {},
   "outputs": [],
   "source": [
    "id = list(set(detail[\"data.steam_appid\"]))"
   ]
  },
  {
   "cell_type": "code",
   "execution_count": 4,
   "metadata": {},
   "outputs": [],
   "source": [
    "def get_review(x,page):\n",
    "    max_attempts = 10\n",
    "    attempts = 0\n",
    "    while attempts < max_attempts:\n",
    "        response = requests.get(\"http://store.steampowered.com/appreviews/\"+str(x)+ \"?json=1&filter=recent&start_offset=\" + str(page))\n",
    "        if response.status_code == 200:\n",
    "            return response.json()[\"reviews\"]\n",
    "        # If rate limited, wait and try again\n",
    "        time.sleep((2 ** attempts) + random.random())\n",
    "        attempts = attempts + 1\n",
    "    print(x)\n",
    "    return []"
   ]
  },
  {
   "cell_type": "code",
   "execution_count": 5,
   "metadata": {},
   "outputs": [
    {
     "name": "stderr",
     "output_type": "stream",
     "text": [
      "100% (9944 of 9944) |#######| Elapsed Time: 1 day, 4:17:59 Time: 1 day, 4:17:59\n"
     ]
    }
   ],
   "source": [
    "passed = []\n",
    "for i in bar(id[12619:]):\n",
    "    result = []\n",
    "    s = 0\n",
    "    try:\n",
    "        while(get_review(i,s) != []):\n",
    "            result.extend(get_review(i,s))\n",
    "            s = s+20\n",
    "        with open(\"review/\"+str(i)+\".json\", 'w') as fout:\n",
    "            json.dump(result, fout)\n",
    "    except:\n",
    "        passed = passed + [i]\n",
    "        pass"
   ]
  }
 ],
 "metadata": {
  "kernelspec": {
   "display_name": "Python 3",
   "language": "python",
   "name": "python3"
  },
  "language_info": {
   "codemirror_mode": {
    "name": "ipython",
    "version": 3
   },
   "file_extension": ".py",
   "mimetype": "text/x-python",
   "name": "python",
   "nbconvert_exporter": "python",
   "pygments_lexer": "ipython3",
   "version": "3.6.4"
  }
 },
 "nbformat": 4,
 "nbformat_minor": 2
}
