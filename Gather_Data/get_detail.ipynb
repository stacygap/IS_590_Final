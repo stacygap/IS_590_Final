{
 "cells": [
  {
   "cell_type": "code",
   "execution_count": 1,
   "metadata": {},
   "outputs": [],
   "source": [
    "import requests\n",
    "import json\n",
    "import progressbar\n",
    "import time\n",
    "import random\n",
    "bar = progressbar.ProgressBar()\n",
    "id = requests.get(\"http://api.steampowered.com/ISteamApps/GetAppList/v0002/?key=STEAMKEY&format=json\")\n",
    "id = id.json()\n",
    "id = [x[\"appid\"] for x in id[\"applist\"][\"apps\"]]\n",
    "id = id[3:]"
   ]
  },
  {
   "cell_type": "code",
   "execution_count": 2,
   "metadata": {},
   "outputs": [],
   "source": [
    "def get_detail(x):\n",
    "    max_attempts = 10\n",
    "    attempts = 0\n",
    "    while attempts < max_attempts:\n",
    "        response = requests.get(\"http://store.steampowered.com/api/appdetails?appids=\" + str(x))\n",
    "        if response.status_code != 429:\n",
    "            return response.json()\n",
    "        # If rate limited, wait and try again\n",
    "        time.sleep((2 ** attempts) + random.random())\n",
    "        attempts = attempts + 1\n",
    "    print(x)\n",
    "    return None"
   ]
  },
  {
   "cell_type": "code",
   "execution_count": 3,
   "metadata": {
    "scrolled": true
   },
   "outputs": [
    {
     "name": "stderr",
     "output_type": "stream",
     "text": [
      "100% (9 of 9) |###########################| Elapsed Time: 0:00:02 Time: 0:00:02\n"
     ]
    }
   ],
   "source": [
    "detail = {}\n",
    "id_left = []\n",
    "for x in bar(id[1:10]):\n",
    "    d = get_detail(x)\n",
    "    if d is not None:\n",
    "        detail.update(d)"
   ]
  }
 ],
 "metadata": {
  "kernelspec": {
   "display_name": "Python 3",
   "language": "python",
   "name": "python3"
  },
  "language_info": {
   "codemirror_mode": {
    "name": "ipython",
    "version": 3
   },
   "file_extension": ".py",
   "mimetype": "text/x-python",
   "name": "python",
   "nbconvert_exporter": "python",
   "pygments_lexer": "ipython3",
   "version": "3.6.4"
  }
 },
 "nbformat": 4,
 "nbformat_minor": 2
}
