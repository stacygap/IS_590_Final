{
 "cells": [
  {
   "cell_type": "code",
   "execution_count": 1,
   "metadata": {
    "scrolled": false
   },
   "outputs": [],
   "source": [
    "import json\n",
    "from pprint import pprint\n",
    "import pandas as pd\n",
    "import progressbar"
   ]
  },
  {
   "cell_type": "code",
   "execution_count": 2,
   "metadata": {},
   "outputs": [],
   "source": [
    "def json_to_csv(json_file):\n",
    "    final = []\n",
    "    dat = json.load(open(json_file))\n",
    "    if len(dat) == 0:\n",
    "        return False\n",
    "    for i in range(len(dat)):\n",
    "        for item in [\"last_played\",\"num_games_owned\",\"num_reviews\",\"playtime_forever\",\"playtime_last_two_weeks\",\"steamid\"]:\n",
    "            dat[i][item] = dat[i][\"author\"][item]\n",
    "        t = ['comment_count',\n",
    "             'game_id',\n",
    "             'language',\n",
    "             'last_played',\n",
    "             'num_games_owned',\n",
    "             'num_reviews',\n",
    "             'playtime_forever',\n",
    "             'playtime_last_two_weeks',\n",
    "             'received_for_free',\n",
    "             'recommendationid',\n",
    "             'review',\n",
    "             'steam_purchase',\n",
    "             'steamid',\n",
    "             'timestamp_created',\n",
    "             'timestamp_updated',\n",
    "             'voted_up',\n",
    "             'votes_funny',\n",
    "             'votes_up',\n",
    "             'weighted_vote_score',\n",
    "             'written_during_early_access']\n",
    "        extra = [x for x in dat[i].keys() if x not in t]\n",
    "        if extra != []:\n",
    "            for x in extra:\n",
    "                dat[i].pop(x, None)\n",
    "        dat[i][\"game_id\"] = int(''.join(filter(str.isdigit, json_file)))\n",
    "        row = pd.DataFrame(dat[i], index=[0])\n",
    "        final = final + [row]\n",
    "    return pd.concat(final)"
   ]
  },
  {
   "cell_type": "code",
   "execution_count": 3,
   "metadata": {},
   "outputs": [
    {
     "name": "stderr",
     "output_type": "stream",
     "text": [
      "100% (22548 of 22548) |###################| Elapsed Time: 6:03:05 Time: 6:03:05\n"
     ]
    }
   ],
   "source": [
    "import os\n",
    "all_file = os.listdir(\"./review\")\n",
    "first = True\n",
    "bar = progressbar.ProgressBar()\n",
    "for file in bar(all_file):\n",
    "    df = json_to_csv(\"review/\" + file)\n",
    "    if type(df) == pd.core.frame.DataFrame:\n",
    "        with open('final_data.csv', 'a', encoding='utf-8', errors='ignore') as f:\n",
    "            df.to_csv(f, header=first, index=False)\n",
    "            first = False\n",
    "        f.close()"
   ]
  }
 ],
 "metadata": {
  "kernelspec": {
   "display_name": "Python 3",
   "language": "python",
   "name": "python3"
  },
  "language_info": {
   "codemirror_mode": {
    "name": "ipython",
    "version": 3
   },
   "file_extension": ".py",
   "mimetype": "text/x-python",
   "name": "python",
   "nbconvert_exporter": "python",
   "pygments_lexer": "ipython3",
   "version": "3.6.4"
  }
 },
 "nbformat": 4,
 "nbformat_minor": 2
}
